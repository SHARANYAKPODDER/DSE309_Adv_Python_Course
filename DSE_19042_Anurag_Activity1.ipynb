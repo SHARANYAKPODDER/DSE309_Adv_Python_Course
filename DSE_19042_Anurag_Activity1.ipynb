{
  "nbformat": 4,
  "nbformat_minor": 0,
  "metadata": {
    "colab": {
      "name": "DSE_19042_Anurag_Activity1.ipynb",
      "provenance": [],
      "collapsed_sections": []
    },
    "kernelspec": {
      "name": "python3",
      "display_name": "Python 3"
    },
    "language_info": {
      "name": "python"
    }
  },
  "cells": [
    {
      "cell_type": "markdown",
      "metadata": {
        "id": "gFgS81piFF1a"
      },
      "source": [
        "# **Variables and Condititonals**\n",
        "`@author: DSE_Anurag_Nihal_19042`"
      ]
    },
    {
      "cell_type": "markdown",
      "metadata": {
        "id": "GYvcffSkpxYu"
      },
      "source": [
        "#### Exercise 1: Integer and Float Types\n",
        "The goal of this exercise is to determine types and then\n",
        "change those types in our Python code.\n",
        "1. Begin by explicitly determining the type of 6\n",
        "2. Now, find the type of 6.0\n",
        "3. Now, add 5 to 3.14. Infer the type of their sum:\n",
        "It's clear from the output that combining an int and\n",
        "a float gives us a float. This makes sense. If Python\n",
        "returned 8, you would lose information. When possible,\n",
        "Python converts types to preserve information.\n",
        "4. Now, convert 7.999999999 to an int:\n",
        "\n",
        "5. Convert 6 to a float:\n",
        "Exercise 2: Assigning Variables"
      ]
    },
    {
      "cell_type": "code",
      "metadata": {
        "colab": {
          "base_uri": "https://localhost:8080/"
        },
        "id": "JBhvOsMFpiaV",
        "outputId": "d2591b27-111d-4010-9c37-43deeb3c1175"
      },
      "source": [
        "# Q1. Begin by explicitly determining the type of 6\n",
        "type(6)"
      ],
      "execution_count": 1,
      "outputs": [
        {
          "output_type": "execute_result",
          "data": {
            "text/plain": [
              "int"
            ]
          },
          "metadata": {
            "tags": []
          },
          "execution_count": 1
        }
      ]
    },
    {
      "cell_type": "code",
      "metadata": {
        "colab": {
          "base_uri": "https://localhost:8080/"
        },
        "id": "ALO_-65iqEG_",
        "outputId": "c94752e0-83f1-474f-d696-091580cb8346"
      },
      "source": [
        "# Q2. Now, find the type of 6.0\n",
        "type(6.0)"
      ],
      "execution_count": 2,
      "outputs": [
        {
          "output_type": "execute_result",
          "data": {
            "text/plain": [
              "float"
            ]
          },
          "metadata": {
            "tags": []
          },
          "execution_count": 2
        }
      ]
    },
    {
      "cell_type": "code",
      "metadata": {
        "colab": {
          "base_uri": "https://localhost:8080/"
        },
        "id": "tTBuc_S8qKW2",
        "outputId": "013effe6-5a21-4eb3-d043-d62e4be567ae"
      },
      "source": [
        "# Q3. Now, add 5 to 3.14. Infer the type of their sum: \n",
        "# Ans. The sum should be a float value\n",
        "print(5+3.14)\n",
        "print(type(5+3.14))"
      ],
      "execution_count": 3,
      "outputs": [
        {
          "output_type": "stream",
          "text": [
            "8.14\n",
            "<class 'float'>\n"
          ],
          "name": "stdout"
        }
      ]
    },
    {
      "cell_type": "code",
      "metadata": {
        "colab": {
          "base_uri": "https://localhost:8080/"
        },
        "id": "d5E_WYHwqfMF",
        "outputId": "300cd911-cff5-42f2-bfe6-1fc2e39665c7"
      },
      "source": [
        "# Q4. Now, convert 7.999999999 to an int:\n",
        "int(7.999999999)"
      ],
      "execution_count": 4,
      "outputs": [
        {
          "output_type": "execute_result",
          "data": {
            "text/plain": [
              "7"
            ]
          },
          "metadata": {
            "tags": []
          },
          "execution_count": 4
        }
      ]
    },
    {
      "cell_type": "code",
      "metadata": {
        "colab": {
          "base_uri": "https://localhost:8080/"
        },
        "id": "hDaHZhA1quE_",
        "outputId": "939cb3d0-5460-4e9f-e6c7-9989b6c70bdd"
      },
      "source": [
        "# Q5. Convert 6 to a float:\n",
        "float(6)"
      ],
      "execution_count": 5,
      "outputs": [
        {
          "output_type": "execute_result",
          "data": {
            "text/plain": [
              "6.0"
            ]
          },
          "metadata": {
            "tags": []
          },
          "execution_count": 5
        }
      ]
    },
    {
      "cell_type": "markdown",
      "metadata": {
        "id": "6VYJuC2hq3NG"
      },
      "source": [
        "#### Exercise 2: Assigning Variables\n",
        "\n",
        "1. Set x as equal to the number 2:\n",
        "2. Add 1 to the variable x:\n",
        "Once we add 1 to x, we get the output of 3, because the\n",
        "variable has 1 added to it.\n",
        "3. Change x to 3.0 and add 1 to x:\n",
        "In this step, we change the value of x to 4.0, and as in\n",
        "the previous 2 steps, we will be adding 1 to\n",
        "the x variable."
      ]
    },
    {
      "cell_type": "code",
      "metadata": {
        "id": "VwOecnD1q0iy"
      },
      "source": [
        "# Q1. Set x as equal to the number 2\n",
        "x=2"
      ],
      "execution_count": 6,
      "outputs": []
    },
    {
      "cell_type": "code",
      "metadata": {
        "colab": {
          "base_uri": "https://localhost:8080/"
        },
        "id": "evNrrtuurZnQ",
        "outputId": "befe5f65-24a4-46b8-a642-01c1305b19e3"
      },
      "source": [
        "# Q2. Add 1 to the variable x: \n",
        "# Once we add 1 to x, we get the output of 3, \n",
        "# because the variable has 1 added to it.\n",
        "x+1"
      ],
      "execution_count": 7,
      "outputs": [
        {
          "output_type": "execute_result",
          "data": {
            "text/plain": [
              "3"
            ]
          },
          "metadata": {
            "tags": []
          },
          "execution_count": 7
        }
      ]
    },
    {
      "cell_type": "code",
      "metadata": {
        "colab": {
          "base_uri": "https://localhost:8080/"
        },
        "id": "1rabh47frmve",
        "outputId": "d77609cf-da2b-4cd9-b7bb-883d32975ade"
      },
      "source": [
        "# Q3. Change x to 3.0 and add 1 to x: \n",
        "# In this step, we change the value of x to 4.0, \n",
        "# and as in the previous 2 steps, \n",
        "# we will be adding 1 to the x variable.\n",
        "\n",
        "x=3.0\n",
        "x+1"
      ],
      "execution_count": 8,
      "outputs": [
        {
          "output_type": "execute_result",
          "data": {
            "text/plain": [
              "4.0"
            ]
          },
          "metadata": {
            "tags": []
          },
          "execution_count": 8
        }
      ]
    },
    {
      "cell_type": "markdown",
      "metadata": {
        "id": "26mtIgu6sAGu"
      },
      "source": [
        "#### Exercise 3: Variable Names\n",
        "\n",
        "1. Create a variable called 1st_number and assign it a\n",
        "value of 1.\n",
        "You get the error because variables can not have number\n",
        "as first character.\n",
        "\n",
        "2. Now, let's try using letters to begin a variable:\n",
        "\n",
        "      `first_number = 1`\n",
        "3. Now, use special characters in a variable name, as in the\n",
        "following code:\n",
        "\n",
        "      `my_$ = 1000.00`\n",
        "\n",
        "You get the error because you cannot include a variable\n",
        "with a special character.\n",
        "4. Now, use letters again instead of special characters for\n",
        "the variable name:\n",
        "\n",
        "      `my_money = 1000.00`"
      ]
    },
    {
      "cell_type": "code",
      "metadata": {
        "colab": {
          "base_uri": "https://localhost:8080/",
          "height": 128
        },
        "id": "vc5bgU1Vr8Ld",
        "outputId": "b667f20d-0fa9-45ab-a380-625ac1ef764a"
      },
      "source": [
        "# Q1. Create a variable called 1st_number \n",
        "# and assign it a value of 1. \n",
        "# You get the error because \n",
        "# variables can not have number as first character. \n",
        "1st_number = 1"
      ],
      "execution_count": 9,
      "outputs": [
        {
          "output_type": "error",
          "ename": "SyntaxError",
          "evalue": "ignored",
          "traceback": [
            "\u001b[0;36m  File \u001b[0;32m\"<ipython-input-9-fc1202f492ee>\"\u001b[0;36m, line \u001b[0;32m5\u001b[0m\n\u001b[0;31m    1st_number = 1\u001b[0m\n\u001b[0m             ^\u001b[0m\n\u001b[0;31mSyntaxError\u001b[0m\u001b[0;31m:\u001b[0m invalid syntax\n"
          ]
        }
      ]
    },
    {
      "cell_type": "code",
      "metadata": {
        "id": "Z6RuUKX8su44"
      },
      "source": [
        "# Q2. Now, let's try using letters to begin a variable: first_number = 1\n",
        "first_number = 1"
      ],
      "execution_count": 10,
      "outputs": []
    },
    {
      "cell_type": "code",
      "metadata": {
        "colab": {
          "base_uri": "https://localhost:8080/",
          "height": 128
        },
        "id": "wJ-x4vujs4yH",
        "outputId": "62b0fdbe-ea41-4379-9055-75c44f58b2bd"
      },
      "source": [
        "# Q3. Now, use special characters in a variable name, \n",
        "# as in the following code: my_$ = 1000.00\n",
        "my_$ = 1000.00"
      ],
      "execution_count": 11,
      "outputs": [
        {
          "output_type": "error",
          "ename": "SyntaxError",
          "evalue": "ignored",
          "traceback": [
            "\u001b[0;36m  File \u001b[0;32m\"<ipython-input-11-e2df7e7591ae>\"\u001b[0;36m, line \u001b[0;32m3\u001b[0m\n\u001b[0;31m    my_$ = 1000.00\u001b[0m\n\u001b[0m       ^\u001b[0m\n\u001b[0;31mSyntaxError\u001b[0m\u001b[0;31m:\u001b[0m invalid syntax\n"
          ]
        }
      ]
    },
    {
      "cell_type": "code",
      "metadata": {
        "id": "KYjcYA5qtC17"
      },
      "source": [
        "# Q4. Now, use letters again instead of special characters \n",
        "# for the variable name: my_money = 1000.00\n",
        "my_money = 1000.00"
      ],
      "execution_count": null,
      "outputs": []
    },
    {
      "cell_type": "markdown",
      "metadata": {
        "id": "QIbOjPbMtQpC"
      },
      "source": [
        "#### Exercise 4: Multiple Variables in Python\n",
        "\n",
        "Assign 5 to x and 2 to y:\n",
        "1. Add x to x and subtract y to the second power:\n",
        "\n",
        "\n",
        "Python has a lot of cool shortcuts, and multiple variable\n",
        "assignment is one of them. Here's the Pythonic way of\n",
        "declaring two variables.\n",
        "\n",
        "  Note: \n",
        "\n",
        "  *Pythonic* is a term used to describe code written in the optimum readable format.\n",
        "\n",
        "\n",
        "2. Assign 8 to x and 5 to y in one line:\n",
        "    \n",
        "    \n",
        "    x, y = 8, 5\n",
        "3. Find the integer division of x and y:"
      ]
    },
    {
      "cell_type": "code",
      "metadata": {
        "id": "qpVuMftztMQb"
      },
      "source": [
        "# Q0. Assign 5 to x and 2 to y\n",
        "x = 5\n",
        "y = 2"
      ],
      "execution_count": 12,
      "outputs": []
    },
    {
      "cell_type": "code",
      "metadata": {
        "id": "-iJaZ3WcthOp"
      },
      "source": [
        "# Q1. Add x to x and subtract y to the second power.\n",
        "x = x+x-y**2"
      ],
      "execution_count": 13,
      "outputs": []
    },
    {
      "cell_type": "code",
      "metadata": {
        "id": "AvyN4LYTvGwA"
      },
      "source": [
        "# Q2. Assign 8 to x and 5 to y in one line:\n",
        "x, y = 8, 5"
      ],
      "execution_count": 14,
      "outputs": []
    },
    {
      "cell_type": "code",
      "metadata": {
        "colab": {
          "base_uri": "https://localhost:8080/"
        },
        "id": "PvU3Y0AhvNcq",
        "outputId": "bc964c9c-8e56-4e7a-9031-6dbf0a238bc9"
      },
      "source": [
        "# Q3. Find the integer division of x and y\n",
        "x//y"
      ],
      "execution_count": 15,
      "outputs": [
        {
          "output_type": "execute_result",
          "data": {
            "text/plain": [
              "1"
            ]
          },
          "metadata": {
            "tags": []
          },
          "execution_count": 15
        }
      ]
    },
    {
      "cell_type": "markdown",
      "metadata": {
        "id": "opoL4TxpvePg"
      },
      "source": [
        "#### Exercise 5: Comments in Python\n",
        "\n",
        "1. Write a comment that states \n",
        "    \n",
        "    `# This is a comment`\n",
        "\n",
        "When you execute this cell, nothing should happen.\n",
        "2. Set the pi variable as equal to 3.14. Add a comment\n",
        "above the line stating what you did:\n",
        "\n",
        "    `# Set the variable pi equal to 3.14`\n",
        "\n",
        "Adding the comment clarifies what follows.\n",
        "3. Now, try setting the pi variable as equal to 3.14 again,\n",
        "but add the comment stating what you did on the same\n",
        "line:\n",
        "    \n",
        "    `# Set the variable pi equal to 3.14`\n",
        "    \n",
        "Although it's less common to provide comments on the\n",
        "same line of code, it's acceptable and often appropriate."
      ]
    },
    {
      "cell_type": "code",
      "metadata": {
        "id": "A3bEZZX3vWzF"
      },
      "source": [
        "# This is a comment"
      ],
      "execution_count": 16,
      "outputs": []
    },
    {
      "cell_type": "code",
      "metadata": {
        "id": "yPDySpdfw1_T"
      },
      "source": [
        "# Set the variable pi equal to 3.14\n",
        "pi = 3.14"
      ],
      "execution_count": 17,
      "outputs": []
    },
    {
      "cell_type": "code",
      "metadata": {
        "id": "fGabkPYPxI26"
      },
      "source": [
        "pi = 3.14 # Set the variable pi equal to 3.14"
      ],
      "execution_count": 18,
      "outputs": []
    },
    {
      "cell_type": "markdown",
      "metadata": {
        "id": "sc35j5oFyK8Z"
      },
      "source": [
        "#### Exercise 6: The input() function\n",
        "1. Ask a user for their name. Respond with an appropriate\n",
        "greeting:\n",
        "\n",
        "          # Choose a question to ask\n",
        "          print('What is your name?')\n",
        "2. Now, set a variable that will be equal to\n",
        "the input() function, as mentioned in the following\n",
        "code snippet:\n",
        "\n",
        "    `name = input()`\n",
        "\n",
        "3. Finally, print Hello with name and then a full stop\n",
        "symbol."
      ]
    },
    {
      "cell_type": "code",
      "metadata": {
        "colab": {
          "base_uri": "https://localhost:8080/"
        },
        "id": "JikSGNKlw_AP",
        "outputId": "aa35e715-6939-44e2-ea51-74c0b7e5d808"
      },
      "source": [
        "# Q1. Ask a user for their name. Respond with an appropriate greeting:\n",
        "# Choose a question \n",
        "print(\"What is your name?\")"
      ],
      "execution_count": 19,
      "outputs": [
        {
          "output_type": "stream",
          "text": [
            "What is your name?\n"
          ],
          "name": "stdout"
        }
      ]
    },
    {
      "cell_type": "code",
      "metadata": {
        "colab": {
          "base_uri": "https://localhost:8080/"
        },
        "id": "De1K0CA60G2s",
        "outputId": "6c715269-b8f0-4a16-8b7d-accd289bdfbb"
      },
      "source": [
        "# Q2. Now, set a variable that will be equal to\n",
        "# the input() function, as mentioned in the following\n",
        "# code snippet:\n",
        "name = input()\n",
        "print(\"Hello {}\".format(name))"
      ],
      "execution_count": 20,
      "outputs": [
        {
          "output_type": "stream",
          "text": [
            "\n",
            "Hello \n"
          ],
          "name": "stdout"
        }
      ]
    },
    {
      "cell_type": "markdown",
      "metadata": {
        "id": "-3KMfVaM0oac"
      },
      "source": [
        "#### Exercise 7: Boolean Variables\n",
        "1. Now, use a Boolean to classify someone as being over 18 and get the type of the variable as bool. (take the hint from the following.)\n",
        "2. Use a Boolean to classify someone as not being over 21:\n",
        "\n",
        "    `over_21 = False`\n",
        "\n",
        "    `type(over_21)`"
      ]
    },
    {
      "cell_type": "code",
      "metadata": {
        "colab": {
          "base_uri": "https://localhost:8080/"
        },
        "id": "JowVhBFO0ZLG",
        "outputId": "fa17b157-dea8-4e9e-a447-306f50212486"
      },
      "source": [
        "# Q1. Now, use a Boolean to classify someone as being over 18 \n",
        "#     and get the type of the variable as bool.\n",
        "over_18 = True\n",
        "type(over_18)"
      ],
      "execution_count": 21,
      "outputs": [
        {
          "output_type": "execute_result",
          "data": {
            "text/plain": [
              "bool"
            ]
          },
          "metadata": {
            "tags": []
          },
          "execution_count": 21
        }
      ]
    },
    {
      "cell_type": "code",
      "metadata": {
        "colab": {
          "base_uri": "https://localhost:8080/"
        },
        "id": "ldWWOSm02BTw",
        "outputId": "7a398653-1899-497f-b248-e947d480d690"
      },
      "source": [
        "# Q2. Use a Boolean to classify someone as not being over 21\n",
        "over_21 = False\n",
        "type(over_21)"
      ],
      "execution_count": 22,
      "outputs": [
        {
          "output_type": "execute_result",
          "data": {
            "text/plain": [
              "bool"
            ]
          },
          "metadata": {
            "tags": []
          },
          "execution_count": 22
        }
      ]
    },
    {
      "cell_type": "markdown",
      "metadata": {
        "id": "5QQ8JFAj2MOo"
      },
      "source": [
        "#### Exercise 8: Comparison Operators\n",
        "1. Now, set age as equal to 20 and include a comparison\n",
        "operator to check whether age is less than 13:\n",
        "2. Using the following code snippet, you can check\n",
        "whether age is greater than or equal to 20 and less than\n",
        "or equal to 21:\n",
        "\n",
        "    `age >= 20 and age <= 21`\n",
        "\n",
        "You should get the following output:\n",
        "`True`\n",
        "3. Now check whether age is equivalent to 21:\n",
        "`age != 21`\n",
        "\n",
        "You should get the following output:\n",
        "`True`\n",
        "4. Now, check whether age is equivalent to 19:\n",
        "`age == 19`\n",
        "You should get the following output:\n",
        "`False`\n",
        "\n",
        "The double equals sign, or the equivalent operator, ==, is\n",
        "very important in Python. It allows us to determine\n",
        "whether two objects are equal. You can now address the\n",
        "question of whether 6 and 6.0 are the same in Python.\n",
        "\n",
        "5. Is 6 equivalent to 6.0 in Python? Let's find out:\n",
        "`6 == 6.0`\n",
        "You should get the following output:\n",
        "`True`\n",
        "This may come as a bit of a surprise. 6 and 6.0 are\n",
        "different types, but they are equivalent. Why would that\n",
        "be?\n",
        "\n",
        "  Since 6 and 6.0 are equivalent mathematically, it makes\n",
        "sense that they would be equivalent in Python, even\n",
        "though the types are different. Consider whether 6 should\n",
        "be equivalent to 42/7. The mathematical answer is yes.\n",
        "Python often conforms to mathematical truths, even with\n",
        "integer division. You can conclude that it's possible for\n",
        "different types to have equivalent objects.\n",
        "\n",
        "6. Now find out whether 6 is equivalent to the '6' string:\n",
        "`6 == '6'`\n",
        "You should get the following output:\n",
        "`False`\n",
        "\n",
        "  Here, you emphasize that different types usually do not\n",
        "have equivalent objects. In general, it's a good idea to\n",
        "cast objects as the same type before testing for\n",
        "equivalence.\n",
        "\n",
        "  Next, let's find out whether someone is in their 20's or\n",
        "30's:\n",
        "\n",
        "    `(age >= 20 and age < 30) or (age >= 30 and age < 40)`\n",
        "\n",
        "You should get the following output:\n",
        "`True`\n",
        "Parentheses are not necessary when there is only one\n",
        "possible interpretation. When using more than two\n",
        "conditions, parentheses are generally a good idea. \n",
        "  \n",
        "  Note that parentheses are always permitted. The following is\n",
        "another approach:\n",
        "\n",
        "  `(20 <= age < 30) or (30 <= age < 40)`\n",
        "\n",
        "You should get the following output:\n",
        "`True`\n",
        "\n",
        "  Although the parentheses in the preceding code line are\n",
        "not strictly required, they make the code more readable.\n",
        "A good rule of thumb is to use parentheses for clarity."
      ]
    },
    {
      "cell_type": "code",
      "metadata": {
        "colab": {
          "base_uri": "https://localhost:8080/"
        },
        "id": "AND4k-vl2IoP",
        "outputId": "8c30a6f4-2281-417a-cd00-32c0039ea5e9"
      },
      "source": [
        "# Q1. Now, set age as equal to 20 and include a comparison\n",
        "# operator to check whether age is less than 13:\n",
        "age = 20\n",
        "age<13"
      ],
      "execution_count": 23,
      "outputs": [
        {
          "output_type": "execute_result",
          "data": {
            "text/plain": [
              "False"
            ]
          },
          "metadata": {
            "tags": []
          },
          "execution_count": 23
        }
      ]
    },
    {
      "cell_type": "code",
      "metadata": {
        "colab": {
          "base_uri": "https://localhost:8080/"
        },
        "id": "uexmVpZq5K-6",
        "outputId": "c49ba2ab-2033-429c-95fc-7f4aef93876e"
      },
      "source": [
        "# Q2. Using the following code snippet, you can check\n",
        "# whether age is greater than or equal to 20 and less than\n",
        "# or equal to 21:\n",
        "age >= 20 and age <= 21"
      ],
      "execution_count": 24,
      "outputs": [
        {
          "output_type": "execute_result",
          "data": {
            "text/plain": [
              "True"
            ]
          },
          "metadata": {
            "tags": []
          },
          "execution_count": 24
        }
      ]
    },
    {
      "cell_type": "code",
      "metadata": {
        "colab": {
          "base_uri": "https://localhost:8080/"
        },
        "id": "aZK_Hjx05Mja",
        "outputId": "bf3264b1-6741-461a-a1b8-4f3acc1c6424"
      },
      "source": [
        "# Q3. Now check whether age is equivalent to 21:\n",
        "age != 21"
      ],
      "execution_count": 25,
      "outputs": [
        {
          "output_type": "execute_result",
          "data": {
            "text/plain": [
              "True"
            ]
          },
          "metadata": {
            "tags": []
          },
          "execution_count": 25
        }
      ]
    },
    {
      "cell_type": "code",
      "metadata": {
        "colab": {
          "base_uri": "https://localhost:8080/"
        },
        "id": "3I-BMamM5km9",
        "outputId": "ce6b60c1-1f5f-4131-95fb-85bdff97c330"
      },
      "source": [
        "# Q4. Now, check whether age is equivalent to 19:\n",
        "age == 19"
      ],
      "execution_count": 26,
      "outputs": [
        {
          "output_type": "execute_result",
          "data": {
            "text/plain": [
              "False"
            ]
          },
          "metadata": {
            "tags": []
          },
          "execution_count": 26
        }
      ]
    },
    {
      "cell_type": "code",
      "metadata": {
        "colab": {
          "base_uri": "https://localhost:8080/"
        },
        "id": "KNJPQ2Ex5w9L",
        "outputId": "8741ddc3-0485-45a0-bc90-3782e6de76c7"
      },
      "source": [
        "# Q5. Is 6 equivalent to 6.0 in Python?\n",
        "6 == 6.0"
      ],
      "execution_count": 27,
      "outputs": [
        {
          "output_type": "execute_result",
          "data": {
            "text/plain": [
              "True"
            ]
          },
          "metadata": {
            "tags": []
          },
          "execution_count": 27
        }
      ]
    },
    {
      "cell_type": "code",
      "metadata": {
        "colab": {
          "base_uri": "https://localhost:8080/"
        },
        "id": "gSw2Hj2y9bIC",
        "outputId": "0e105084-988a-4a4c-b555-e3c568cbb1da"
      },
      "source": [
        "# Q6. Now find out whether 6 is equivalent to the '6' string:\n",
        "6 == '6'"
      ],
      "execution_count": 28,
      "outputs": [
        {
          "output_type": "execute_result",
          "data": {
            "text/plain": [
              "False"
            ]
          },
          "metadata": {
            "tags": []
          },
          "execution_count": 28
        }
      ]
    },
    {
      "cell_type": "code",
      "metadata": {
        "colab": {
          "base_uri": "https://localhost:8080/"
        },
        "id": "Fm7XdgO29iWr",
        "outputId": "ca8753d0-b2ec-4546-fab0-a9c1e6f9c90d"
      },
      "source": [
        "# Q7. find out whether someone is in their 20's or 30's:\n",
        "(age >= 20 and age < 30) or (age >= 30 and age < 40)"
      ],
      "execution_count": 29,
      "outputs": [
        {
          "output_type": "execute_result",
          "data": {
            "text/plain": [
              "True"
            ]
          },
          "metadata": {
            "tags": []
          },
          "execution_count": 29
        }
      ]
    },
    {
      "cell_type": "code",
      "metadata": {
        "colab": {
          "base_uri": "https://localhost:8080/"
        },
        "id": "QfMseTJ59wqy",
        "outputId": "6c870ac6-ad11-4bd9-8a34-e1595999df19"
      },
      "source": [
        "# Q8. Another approach\n",
        "(20 <= age < 30) or (30 <= age < 40)"
      ],
      "execution_count": 30,
      "outputs": [
        {
          "output_type": "execute_result",
          "data": {
            "text/plain": [
              "True"
            ]
          },
          "metadata": {
            "tags": []
          },
          "execution_count": 30
        }
      ]
    },
    {
      "cell_type": "markdown",
      "metadata": {
        "id": "UbMygJTr9769"
      },
      "source": [
        "#### Exercise 9: Using the if syntax\n",
        "\n",
        "1. Now, run multiple lines of code where you set\n",
        "the age variable to 20 and add an if clause, as\n",
        "mentioned in the following code snippet:\n",
        "\n",
        "       age = 20\n",
        "       if age >= 18 and age < 21:\n",
        "        print('At least you can vote.')\n",
        "        print('Poker will have to wait.')\n",
        "You should get the following output:\n",
        "\n",
        "       At least you can vote.\n",
        "       Poker will have to wait.\n",
        "\n",
        "There is no limit to the number of indented statements.\n",
        "Each statement will run in order, provided that the\n",
        "preceding condition is True.\n",
        "2. Now, use nested conditionals:\n",
        "\n",
        "       if age >= 18:\n",
        "        print('You can vote.')\n",
        "       if age >= 21:\n",
        "        print('You can play poker.')\n",
        "You should get the following output:\n",
        "\n",
        "       You can vote.\n",
        "In this case, it's true that age >= 18, so the first\n",
        "statement prints `You can vote`. The second\n",
        "condition, age >= 21, however, is false, so the second\n",
        "statement does not get printed."
      ]
    },
    {
      "cell_type": "code",
      "metadata": {
        "colab": {
          "base_uri": "https://localhost:8080/"
        },
        "id": "RtfqsZa_96OB",
        "outputId": "e81d826b-2d36-47ab-c4be-9a319951722c"
      },
      "source": [
        "# Q1. Now, run multiple lines of code where you set\n",
        "# the age variable to 20 and add an if clause, as\n",
        "# mentioned in the following code snippet:\n",
        "age = 20\n",
        "if age >= 18 and age < 21:\n",
        "  print('At least you can vote.')\n",
        "  print('Poker will have to wait.')"
      ],
      "execution_count": 31,
      "outputs": [
        {
          "output_type": "stream",
          "text": [
            "At least you can vote.\n",
            "Poker will have to wait.\n"
          ],
          "name": "stdout"
        }
      ]
    },
    {
      "cell_type": "code",
      "metadata": {
        "colab": {
          "base_uri": "https://localhost:8080/"
        },
        "id": "r6du7YikBkvT",
        "outputId": "2d0fa803-c3bd-4025-8d1d-a5b14604df15"
      },
      "source": [
        "# Q2. Nested conditionals\n",
        "if age >= 18:\n",
        "  print('You can vote.')\n",
        "if age >= 21:\n",
        "  print('You can play poker.')"
      ],
      "execution_count": 32,
      "outputs": [
        {
          "output_type": "stream",
          "text": [
            "You can vote.\n"
          ],
          "name": "stdout"
        }
      ]
    },
    {
      "cell_type": "markdown",
      "metadata": {
        "id": "qvlZxpwaCDI6"
      },
      "source": [
        "#### Exercise 10: Using the if-else Syntax\n",
        "1. Introduce a voting program only to users over 18 by\n",
        "using the following code snippet:\n",
        "\n",
        "       age = 20\n",
        "       if age < 18:\n",
        "        print('You aren\\'t old enough to vote.')\n",
        "       else:\n",
        "        print('Welcome to our voting program.')\n",
        "\n",
        "You should get the following output:\n",
        "`Welcome to our voting program.`\n",
        "\n",
        "**Note**\n",
        "\n",
        "*Everything after else is indented, just like everything\n",
        "after the if loop.*\n",
        "\n",
        "2. Now run the following code snippet, which is an\n",
        "alternative to the code mentioned in step 2 of this\n",
        "exercise:\n",
        "       if age >= 18:\n",
        "        print('Welcome to our voting program.')\n",
        "       else:\n",
        "        print('You aren\\'t old enough to vote.')\n",
        "  \n",
        "You should get the following output:\n",
        "  \n",
        "    Welcome to our voting program."
      ]
    },
    {
      "cell_type": "code",
      "metadata": {
        "colab": {
          "base_uri": "https://localhost:8080/"
        },
        "id": "F0JFEttqB_mw",
        "outputId": "62a31a62-b94b-4794-b624-52326f54c57c"
      },
      "source": [
        "# Q1. Introduce a voting program only to users over 18 by\n",
        "# using the following code snippet:\n",
        "age = 20\n",
        "if age < 18:\n",
        " print('You aren\\'t old enough to vote.')\n",
        "else:\n",
        " print('Welcome to our voting program.')"
      ],
      "execution_count": 33,
      "outputs": [
        {
          "output_type": "stream",
          "text": [
            "Welcome to our voting program.\n"
          ],
          "name": "stdout"
        }
      ]
    },
    {
      "cell_type": "code",
      "metadata": {
        "colab": {
          "base_uri": "https://localhost:8080/"
        },
        "id": "pedfqnsAC8Gr",
        "outputId": "a76fc50a-26c6-4278-d40f-cd4d1912573e"
      },
      "source": [
        "# Q2. Now run the following code snippet, which is an\n",
        "# alternative to the code mentioned in step 2 of this\n",
        "# exercise:\n",
        "if age >= 18:\n",
        " print('Welcome to our voting program.')\n",
        "else:\n",
        " print('You aren\\'t old enough to vote.')"
      ],
      "execution_count": 34,
      "outputs": [
        {
          "output_type": "stream",
          "text": [
            "Welcome to our voting program.\n"
          ],
          "name": "stdout"
        }
      ]
    }
  ]
}