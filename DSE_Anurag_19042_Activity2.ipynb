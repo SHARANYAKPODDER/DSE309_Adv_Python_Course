{
  "nbformat": 4,
  "nbformat_minor": 0,
  "metadata": {
    "colab": {
      "name": "DSE_Anurag_19042_Activity2.ipynb",
      "provenance": [],
      "collapsed_sections": []
    },
    "kernelspec": {
      "name": "python3",
      "display_name": "Python 3"
    },
    "language_info": {
      "name": "python"
    }
  },
  "cells": [
    {
      "cell_type": "markdown",
      "metadata": {
        "id": "1hnhXcyT6ENL"
      },
      "source": [
        "### Exercise 1: Comparing Strings\n",
        "\n",
        "In this exercise, you will be comparing strings using Python:\n",
        "1. Let's compare single letters:\n",
        "'a' < 'c'\n",
        "\n",
        "  Find out if this is True or False\n",
        "2. Now, let's compare 'Bombay' and 'Mumbai':\n",
        "'Bombay' > 'Mumbai'\n",
        "\n",
        "  Find out if this is True or False"
      ]
    },
    {
      "cell_type": "code",
      "metadata": {
        "colab": {
          "base_uri": "https://localhost:8080/"
        },
        "id": "yjQcH_6f5PKU",
        "outputId": "ac56917f-858e-47c4-e2f5-0232115c599e"
      },
      "source": [
        "# Q1. \n",
        "'a'<'c'"
      ],
      "execution_count": 1,
      "outputs": [
        {
          "output_type": "execute_result",
          "data": {
            "text/plain": [
              "True"
            ]
          },
          "metadata": {},
          "execution_count": 1
        }
      ]
    },
    {
      "cell_type": "code",
      "metadata": {
        "colab": {
          "base_uri": "https://localhost:8080/"
        },
        "id": "3Eoe2mQA5aV1",
        "outputId": "3adbbde9-6fd0-448c-fa9e-69dec7483ec5"
      },
      "source": [
        "# Q2.\n",
        "'Bombay' > 'Mumbai'"
      ],
      "execution_count": 2,
      "outputs": [
        {
          "output_type": "execute_result",
          "data": {
            "text/plain": [
              "False"
            ]
          },
          "metadata": {},
          "execution_count": 2
        }
      ]
    },
    {
      "cell_type": "markdown",
      "metadata": {
        "id": "_dkRcWWb6pnS"
      },
      "source": [
        "### Exercise 2: String Error Syntax\n",
        "\n",
        "The goal of this exercise is to learn appropriate string syntax:\n",
        "1. Enter a valid string:\n",
        "\n",
        "  `bookstore = 'City Lights'`\n",
        "2. Now enter an invalid string:\n",
        "\n",
        "  `bookstore = 'City Lights\"`\n",
        "\n",
        "3. Now enter a valid string format again, as in the following code snippet:\n",
        "\n",
        "  `bookstore = \"Moe's\"`\n",
        "\n",
        "  This is okay. The string starts and ends with double quotes. Anything can be inside the quotation marks, except for more quotation marks.\n",
        "\n",
        "4. Now add the invalid string again:\n",
        "\n",
        "  `bookstore = 'Moe's'`"
      ]
    },
    {
      "cell_type": "code",
      "metadata": {
        "id": "WM1R2hTo6jLd"
      },
      "source": [
        "# Q1.\n",
        "bookstore = 'City Lights'"
      ],
      "execution_count": 4,
      "outputs": []
    },
    {
      "cell_type": "code",
      "metadata": {
        "colab": {
          "base_uri": "https://localhost:8080/",
          "height": 128
        },
        "id": "xdW1qcmD7c2y",
        "outputId": "2dfa82b7-fd56-4fb1-e08e-9d1a6c69cbed"
      },
      "source": [
        "# Q2.\n",
        "bookstore = 'City Lights\""
      ],
      "execution_count": 5,
      "outputs": [
        {
          "output_type": "error",
          "ename": "SyntaxError",
          "evalue": "ignored",
          "traceback": [
            "\u001b[0;36m  File \u001b[0;32m\"<ipython-input-5-191e4b33b616>\"\u001b[0;36m, line \u001b[0;32m2\u001b[0m\n\u001b[0;31m    bookstore = 'City Lights\"\u001b[0m\n\u001b[0m                             ^\u001b[0m\n\u001b[0;31mSyntaxError\u001b[0m\u001b[0;31m:\u001b[0m EOL while scanning string literal\n"
          ]
        }
      ]
    },
    {
      "cell_type": "code",
      "metadata": {
        "id": "goH-8Our7j42"
      },
      "source": [
        "# Q3.\n",
        "bookstore = \"Moe's\""
      ],
      "execution_count": 6,
      "outputs": []
    },
    {
      "cell_type": "code",
      "metadata": {
        "colab": {
          "base_uri": "https://localhost:8080/",
          "height": 128
        },
        "id": "aHKf6llW7yO3",
        "outputId": "7cff2d62-42e7-44e0-aea3-f322df3c000f"
      },
      "source": [
        "# Q4.\n",
        "bookstore = 'Moe's'"
      ],
      "execution_count": 7,
      "outputs": [
        {
          "output_type": "error",
          "ename": "SyntaxError",
          "evalue": "ignored",
          "traceback": [
            "\u001b[0;36m  File \u001b[0;32m\"<ipython-input-7-3ac633b4fb6c>\"\u001b[0;36m, line \u001b[0;32m2\u001b[0m\n\u001b[0;31m    bookstore = 'Moe's'\u001b[0m\n\u001b[0m                     ^\u001b[0m\n\u001b[0;31mSyntaxError\u001b[0m\u001b[0;31m:\u001b[0m invalid syntax\n"
          ]
        }
      ]
    },
    {
      "cell_type": "markdown",
      "metadata": {
        "id": "kpstYWD275Sh"
      },
      "source": [
        "### Exercise 3: Displaying Strings\n",
        "In this exercise, you will learn different ways to display\n",
        "strings:\n",
        "1. Define a greeting variable with the value `'Hello'`. Display the greeting using the print() function:\n",
        "\n",
        "2. Display the value of greeting without using\n",
        "the print() function:\n",
        "You should get the following output:\n",
        "\n",
        "  `'Hello'`\n",
        "\n",
        "  When we input greeting without\n",
        "the print() function, we are obtaining the encoded\n",
        "value, hence the quotes.\n",
        "3. Consider the following sequence of code in a single cell\n",
        "in a Jupyter Notebook:\n",
        "\n",
        "  `spanish_greeting = 'Hola.'`\n",
        "\n",
        "  `spanish_greeting`\n",
        "\n",
        "  `arabic_greeting = 'Ahlan wa sahlan.'`\n",
        "\n",
        "  When the preceding cell is run, the preceding code does\n",
        "not display spanish_greeting. If the code were run\n",
        "on a terminal as three separate lines, it would\n",
        "display Hola., the string assigned to\n",
        "spanish_greeting. The same would be true if the\n",
        "preceding sequence of code were run in three separate\n",
        "cells in a Jupyter Notebook. For consistency, it's useful\n",
        "to use print() any time information should be\n",
        "displayed.\n",
        "4. Display the Spanish greeting:\n",
        "\n",
        "  `spanish_greeting = 'Hola.'`\n",
        "\n",
        "  `print(spanish_greeting)`\n",
        "  \n",
        "  You should get the following output:\n",
        "Hola.\n",
        "5. Now, display the Arabic greeting message, as mentioned\n",
        "in the following code snippet:\n",
        "\n",
        "  `arabic_greeting = 'Ahlan wa sahlan.'`\n",
        "  \n",
        "  `print(arabic_greeting)`\n",
        "\n",
        "  You should get the following output:\n",
        " \n",
        "  `Ahlan wa sahlan.`\n",
        "  The compiler runs through each line in order. Every time\n",
        "it arrives at print(), it displays information."
      ]
    },
    {
      "cell_type": "code",
      "metadata": {
        "colab": {
          "base_uri": "https://localhost:8080/"
        },
        "id": "hViCyub_72_j",
        "outputId": "463fd43b-712e-4b11-c9fd-bf7b13ced032"
      },
      "source": [
        "# Q1.\n",
        "greet = 'Hello'\n",
        "print(greet)"
      ],
      "execution_count": 8,
      "outputs": [
        {
          "output_type": "stream",
          "text": [
            "Hello\n"
          ],
          "name": "stdout"
        }
      ]
    },
    {
      "cell_type": "code",
      "metadata": {
        "colab": {
          "base_uri": "https://localhost:8080/",
          "height": 35
        },
        "id": "DybWnTjo9zML",
        "outputId": "8285cf4d-6ceb-441d-8005-4ac0dcb0a4e6"
      },
      "source": [
        "# Q2.\n",
        "greet"
      ],
      "execution_count": 9,
      "outputs": [
        {
          "output_type": "execute_result",
          "data": {
            "application/vnd.google.colaboratory.intrinsic+json": {
              "type": "string"
            },
            "text/plain": [
              "'Hello'"
            ]
          },
          "metadata": {},
          "execution_count": 9
        }
      ]
    },
    {
      "cell_type": "code",
      "metadata": {
        "id": "OORWkVgW94UO"
      },
      "source": [
        "# Q3.\n",
        "spanish_greeting = 'Hola.'\n",
        "spanish_greeting\n",
        "arabic_greeting = 'Ahlan wa sahlan.'"
      ],
      "execution_count": 10,
      "outputs": []
    },
    {
      "cell_type": "code",
      "metadata": {
        "colab": {
          "base_uri": "https://localhost:8080/"
        },
        "id": "ZutgQoXn-BKF",
        "outputId": "b5e71ec2-c8a1-4577-c715-24147534063d"
      },
      "source": [
        "# Q4.\n",
        "spanish_greeting = 'Hola.'\n",
        "print(spanish_greeting)"
      ],
      "execution_count": 11,
      "outputs": [
        {
          "output_type": "stream",
          "text": [
            "Hola.\n"
          ],
          "name": "stdout"
        }
      ]
    },
    {
      "cell_type": "code",
      "metadata": {
        "colab": {
          "base_uri": "https://localhost:8080/"
        },
        "id": "71_4knQ2-IBb",
        "outputId": "611c387d-aec5-408d-e14a-c54a315ee0fd"
      },
      "source": [
        "# Q5.\n",
        "arabic_greeting = 'Ahlan wa sahlan.'\n",
        "print(arabic_greeting)"
      ],
      "execution_count": 12,
      "outputs": [
        {
          "output_type": "stream",
          "text": [
            "Ahlan wa sahlan.\n"
          ],
          "name": "stdout"
        }
      ]
    },
    {
      "cell_type": "markdown",
      "metadata": {
        "id": "E6sVg2PH-g5k"
      },
      "source": [
        "### Exercise 4: String Concatenation\n",
        "In this exercise, you will learn how to combine strings using\n",
        "string concatenation:\n",
        "\n",
        "1. Combine the spanish_greeting we used\n",
        "in Exercise 3, Displaying Strings, with 'Senor.' using\n",
        "the + operator and display the results:\n",
        "\n",
        "  `spanish_greeting = 'Hola'`\n",
        "  \n",
        "  `print(spanish_greeting + 'Senor.')`\n",
        "\n",
        "  You should get the following output:\n",
        "\n",
        "  `HolaSenor.`\n",
        "\n",
        "  Notice that there are no spaces between greeting and\n",
        "name. If we want spaces between strings, we need to\n",
        "explicitly add them.\n",
        "2. Now, combine spanish_greeting with 'Senor.'\n",
        "using the + operator, but this time, include a space:\n",
        "You should get the following output:\n",
        "\n",
        "  `Hola Senor.`\n",
        "\n",
        "3. Display the greeting 5 times using the `*` multiplication\n",
        "operator:\n",
        "\n",
        "  `greeting = 'Hello'`"
      ]
    },
    {
      "cell_type": "code",
      "metadata": {
        "colab": {
          "base_uri": "https://localhost:8080/"
        },
        "id": "taR1DDIv-UX5",
        "outputId": "4bcf40ec-e5c6-463c-83a4-d2f00f8ed6f5"
      },
      "source": [
        "# Q1.\n",
        "spanish_greeting = 'Hola'\n",
        "\n",
        "print(spanish_greeting + 'Senor.')"
      ],
      "execution_count": 13,
      "outputs": [
        {
          "output_type": "stream",
          "text": [
            "HolaSenor.\n"
          ],
          "name": "stdout"
        }
      ]
    },
    {
      "cell_type": "code",
      "metadata": {
        "colab": {
          "base_uri": "https://localhost:8080/"
        },
        "id": "Ppyj3h1E_Ech",
        "outputId": "b6a731ca-493c-4e5b-b83b-ab97a323c7f2"
      },
      "source": [
        "# Q2.\n",
        "print(spanish_greeting+\" \"+'Senor.')"
      ],
      "execution_count": 14,
      "outputs": [
        {
          "output_type": "stream",
          "text": [
            "Hola Senor.\n"
          ],
          "name": "stdout"
        }
      ]
    },
    {
      "cell_type": "code",
      "metadata": {
        "colab": {
          "base_uri": "https://localhost:8080/"
        },
        "id": "O4Reg4Gg_7S-",
        "outputId": "fbd9f0cf-7156-43e6-cdf9-cb9910b08e5a"
      },
      "source": [
        "# Q3.\n",
        "greeting = 'Hello'\n",
        "print(greeting*5)"
      ],
      "execution_count": 17,
      "outputs": [
        {
          "output_type": "stream",
          "text": [
            "HelloHelloHelloHelloHello\n"
          ],
          "name": "stdout"
        }
      ]
    },
    {
      "cell_type": "markdown",
      "metadata": {
        "id": "jL31YRivAOzX"
      },
      "source": [
        "### Exercise 5: String Methods\n",
        "\n",
        "In this exercise, you will learn how to implement string\n",
        "methods.\n",
        "1. Set a new variable, called name, may be, enter your first\n",
        "name or use your pet name: (here, I am using the city\n",
        "name Bhopal.\n",
        "\n",
        "  `name = 'Bhopal'`\n",
        "\n",
        "  Note:\n",
        "\n",
        "  Access string methods by pressing the Tab button after\n",
        "the variable name and dot (.), as demonstrated in the\n",
        "following screenshot:\n",
        "\n",
        "Setting a variable name via the dropdown menu\n",
        "You can scroll down the list to obtain all available string\n",
        "methods.\n",
        "\n",
        "2. Now, convert the name into lowercase letters using\n",
        "the lower() function:\n",
        "\n",
        "3. Now, capitalize the name using the capitalize()\n",
        "function:\n",
        "\n",
        "4. Convert the name into uppercase letters using upper():\n",
        "\n",
        "5. Finally, count the number of any one vowel (aeiou) in\n",
        "your name. for instance, in 'Bhopal':\n",
        "name.count('o')\n",
        "You should get the following output:"
      ]
    },
    {
      "cell_type": "code",
      "metadata": {
        "id": "bhOED2A6ADde"
      },
      "source": [
        "# Q1.\n",
        "name = 'Bhopal'"
      ],
      "execution_count": 18,
      "outputs": []
    },
    {
      "cell_type": "code",
      "metadata": {
        "colab": {
          "base_uri": "https://localhost:8080/",
          "height": 35
        },
        "id": "WK-s9mQQBU65",
        "outputId": "05124dcf-5168-49cb-bcfb-7236d3014745"
      },
      "source": [
        "# Q2.\n",
        "name.lower()"
      ],
      "execution_count": 21,
      "outputs": [
        {
          "output_type": "execute_result",
          "data": {
            "application/vnd.google.colaboratory.intrinsic+json": {
              "type": "string"
            },
            "text/plain": [
              "'bhopal'"
            ]
          },
          "metadata": {},
          "execution_count": 21
        }
      ]
    },
    {
      "cell_type": "code",
      "metadata": {
        "colab": {
          "base_uri": "https://localhost:8080/",
          "height": 35
        },
        "id": "04TxUN9TBeqU",
        "outputId": "4e6eda9f-7e5f-43a2-8f04-6029495fffde"
      },
      "source": [
        "# Q3.\n",
        "name.capitalize()"
      ],
      "execution_count": 22,
      "outputs": [
        {
          "output_type": "execute_result",
          "data": {
            "application/vnd.google.colaboratory.intrinsic+json": {
              "type": "string"
            },
            "text/plain": [
              "'Bhopal'"
            ]
          },
          "metadata": {},
          "execution_count": 22
        }
      ]
    },
    {
      "cell_type": "code",
      "metadata": {
        "colab": {
          "base_uri": "https://localhost:8080/",
          "height": 35
        },
        "id": "uS9NX5N-BjMw",
        "outputId": "2ff6d99a-4070-4578-f014-9f4be5e55834"
      },
      "source": [
        "# Q4.\n",
        "name.upper()"
      ],
      "execution_count": 23,
      "outputs": [
        {
          "output_type": "execute_result",
          "data": {
            "application/vnd.google.colaboratory.intrinsic+json": {
              "type": "string"
            },
            "text/plain": [
              "'BHOPAL'"
            ]
          },
          "metadata": {},
          "execution_count": 23
        }
      ]
    },
    {
      "cell_type": "code",
      "metadata": {
        "colab": {
          "base_uri": "https://localhost:8080/"
        },
        "id": "wE-4EuflBwFE",
        "outputId": "3a4789c9-f245-4f23-958e-209ff53be7be"
      },
      "source": [
        "# Q5.\n",
        "name.count('a')"
      ],
      "execution_count": 24,
      "outputs": [
        {
          "output_type": "execute_result",
          "data": {
            "text/plain": [
              "1"
            ]
          },
          "metadata": {},
          "execution_count": 24
        }
      ]
    },
    {
      "cell_type": "markdown",
      "metadata": {
        "id": "2kQkdwdwB7X1"
      },
      "source": [
        "### Exercise 6: Slicing\n",
        "\n",
        "1. What do the following expressions evaluate to?\n",
        "\n",
        "  `'Hello, world!'[1]`\n",
        "\n",
        "  `'Hello, world!'[0:5]`\n",
        "2. Write an expression for slicing the letters from “e” to “r”\n",
        "in `'Hello, world!'`\n",
        "3. Write an expression for slicing the letters from index 3\n",
        "till the end in `'Hello, world!'`"
      ]
    },
    {
      "cell_type": "code",
      "metadata": {
        "colab": {
          "base_uri": "https://localhost:8080/",
          "height": 35
        },
        "id": "jrkyGaHTB3vi",
        "outputId": "356ac65e-a7fd-4918-b993-e4f6d6316040"
      },
      "source": [
        "# Q1.\n",
        "'Hello, world!'[1]"
      ],
      "execution_count": 25,
      "outputs": [
        {
          "output_type": "execute_result",
          "data": {
            "application/vnd.google.colaboratory.intrinsic+json": {
              "type": "string"
            },
            "text/plain": [
              "'e'"
            ]
          },
          "metadata": {},
          "execution_count": 25
        }
      ]
    },
    {
      "cell_type": "code",
      "metadata": {
        "colab": {
          "base_uri": "https://localhost:8080/",
          "height": 35
        },
        "id": "KHT-iOQrCjnj",
        "outputId": "a47b0512-c33b-4194-92e3-04d52729d377"
      },
      "source": [
        "# Q1.\n",
        "'Hello, world!'[0:5]"
      ],
      "execution_count": 26,
      "outputs": [
        {
          "output_type": "execute_result",
          "data": {
            "application/vnd.google.colaboratory.intrinsic+json": {
              "type": "string"
            },
            "text/plain": [
              "'Hello'"
            ]
          },
          "metadata": {},
          "execution_count": 26
        }
      ]
    },
    {
      "cell_type": "code",
      "metadata": {
        "colab": {
          "base_uri": "https://localhost:8080/",
          "height": 35
        },
        "id": "rZjeDnKIClOC",
        "outputId": "09362fd4-c902-49be-8d44-1c7104318b93"
      },
      "source": [
        "# Q2.\n",
        "'Hello, world!'[1:-3]"
      ],
      "execution_count": 28,
      "outputs": [
        {
          "output_type": "execute_result",
          "data": {
            "application/vnd.google.colaboratory.intrinsic+json": {
              "type": "string"
            },
            "text/plain": [
              "'ello, wor'"
            ]
          },
          "metadata": {},
          "execution_count": 28
        }
      ]
    },
    {
      "cell_type": "code",
      "metadata": {
        "colab": {
          "base_uri": "https://localhost:8080/",
          "height": 35
        },
        "id": "n2V6YxSgC1lL",
        "outputId": "749d14e1-6500-4ec8-ad6e-5ebd830fedfe"
      },
      "source": [
        "# Q3.\n",
        "'Hello, world!'[3:]"
      ],
      "execution_count": 29,
      "outputs": [
        {
          "output_type": "execute_result",
          "data": {
            "application/vnd.google.colaboratory.intrinsic+json": {
              "type": "string"
            },
            "text/plain": [
              "'lo, world!'"
            ]
          },
          "metadata": {},
          "execution_count": 29
        }
      ]
    },
    {
      "cell_type": "markdown",
      "metadata": {
        "id": "QzI_RQiaDRWh"
      },
      "source": [
        "### Exercise 7: Types and Casting\n",
        "In this exercise, you will learn how types and casting work\n",
        "together:\n",
        "\n",
        "1. Determine the type of '5':\n",
        "\n",
        "  You should get the following output:\n",
        "  \n",
        "  `str`\n",
        "2. Now, add '5' and '7':\n",
        "\n",
        "  You should get the following output:\n",
        "\n",
        "  `'57'`\n",
        "  \n",
        "  The answer is not 12 because, here, 5 and 7 are of\n",
        "type string, not of type int. Recall that the + operator\n",
        "concatenates strings. If we want to add 5 and 7, we must\n",
        "convert them first.\n",
        "3. Convert the '5' string to an int\n",
        "You should get the following output:\n",
        "\n",
        "  `5`\n",
        "  \n",
        "  Now 5 is a number, so it can be combined with other\n",
        "numbers via standard mathematical operations.\n",
        "4. Add '5' and '7' by converting them to int first:\n",
        "\n",
        "  You should get the following output:\n",
        "\n",
        "  Output after adding two integers converted from a string"
      ]
    },
    {
      "cell_type": "code",
      "metadata": {
        "colab": {
          "base_uri": "https://localhost:8080/"
        },
        "id": "USUZ3MEtDBNs",
        "outputId": "b296daa8-46dd-4b34-a74c-e6b6243ce7e6"
      },
      "source": [
        "type('5')"
      ],
      "execution_count": 30,
      "outputs": [
        {
          "output_type": "execute_result",
          "data": {
            "text/plain": [
              "str"
            ]
          },
          "metadata": {},
          "execution_count": 30
        }
      ]
    },
    {
      "cell_type": "code",
      "metadata": {
        "colab": {
          "base_uri": "https://localhost:8080/",
          "height": 35
        },
        "id": "1aVVUiLQD4FD",
        "outputId": "46e469c9-e5ad-4fb7-e4f1-7db8c753a222"
      },
      "source": [
        "'5'+'7'"
      ],
      "execution_count": 31,
      "outputs": [
        {
          "output_type": "execute_result",
          "data": {
            "application/vnd.google.colaboratory.intrinsic+json": {
              "type": "string"
            },
            "text/plain": [
              "'57'"
            ]
          },
          "metadata": {},
          "execution_count": 31
        }
      ]
    },
    {
      "cell_type": "code",
      "metadata": {
        "colab": {
          "base_uri": "https://localhost:8080/"
        },
        "id": "z_XuDUIwD7HF",
        "outputId": "b9117774-0c4b-44ca-e3c0-9f9fa24b2f2c"
      },
      "source": [
        "int('5')"
      ],
      "execution_count": 32,
      "outputs": [
        {
          "output_type": "execute_result",
          "data": {
            "text/plain": [
              "5"
            ]
          },
          "metadata": {},
          "execution_count": 32
        }
      ]
    },
    {
      "cell_type": "code",
      "metadata": {
        "colab": {
          "base_uri": "https://localhost:8080/"
        },
        "id": "2mskHh07D_zm",
        "outputId": "a7aef9a2-ae3b-4a2c-a3cf-9364f64f6ddb"
      },
      "source": [
        "int('5')+int('7')"
      ],
      "execution_count": 33,
      "outputs": [
        {
          "output_type": "execute_result",
          "data": {
            "text/plain": [
              "12"
            ]
          },
          "metadata": {},
          "execution_count": 33
        }
      ]
    },
    {
      "cell_type": "markdown",
      "metadata": {
        "id": "010gRGtJEQ0E"
      },
      "source": [
        "### Exercise 8: Finding the Least Common Multiple (LCM)\n",
        "In this activity, you will find the LCM of two divisors. \n",
        "\n",
        "The LCM of two divisors is the first number that both divisors can divide.\n",
        "\n",
        "For instance, the LCM of 4 and 6 is 12, because 12 is the first\n",
        "number that both 4 and 6 can divide. You will find the LCM\n",
        "of 2 numbers. You will set the variables, then initialize\n",
        "a while loop with an iterator and a Boolean that is True by\n",
        "default. You will set up a conditional that will break if the\n",
        "iterator divides both numbers. You will increase the iterator\n",
        "and print the results after the loop completes.\n",
        "In this activity, using the following steps, you need to find the\n",
        "LCM of 24 and 36.\n",
        "The steps are as follows:\n",
        "1. Set a pair of variables as equal to 24 and 36.\n",
        "2. Initialize the while loop, based on a Boolean that\n",
        "is True by default, with an iterator.\n",
        "3. Set up a conditional to check whether the iterator divides\n",
        "both numbers.\n",
        "4. Break the while loop when the LCM is found.\n",
        "5. Increment the iterator at the end of the loop.\n",
        "6. Print the results.\n",
        "\n",
        "  You should get the following output:\n",
        "\n",
        "  `The Least Common Multiple of 24 and 36 is 72.`\n",
        "\n",
        "IF YOU ARE STILL NOT CLEAR, FOLLOW THE\n",
        "INSTRUCTIONS BELOW\n",
        "\n",
        "Finding the Least Common Multiple (LCM)\n",
        "Here, you begin by setting the variables equal to 24 and 36:\n",
        "\n",
        "  `# Find the Least Common Multiple of Two Divisors`\n",
        "  \n",
        "  `first_divisor = 24`\n",
        "\n",
        "  `second_divisor = 36`\n",
        "\n",
        "  Now, initialize a while loop based on the counting Boolean,\n",
        "which is True, with an iterator, i:\n",
        "\n",
        "  `counting = True`\n",
        "  `i = 1`\n",
        "  `while counting:`\n",
        "  \n",
        "  This step sets up a conditional to check whether the iterator\n",
        "divides both numbers:\n",
        "\n",
        "  `if i % first_divisor == 0 and i % second_divisor == 0:`\n",
        "\n",
        "  This step breaks the while loop:\n",
        "\n",
        "  `break`\n",
        "\n",
        "This step increments the iterator at the end of the loop:\n",
        "\n",
        "  `i += 1`\n",
        "\n",
        "  `print('The Least Common Multiple of', first_divisor, 'and',\n",
        "second_divisor, 'is', i, '.')`\n",
        "\n",
        "You should get the following output:\n",
        "\n",
        "  `The Least Common Multiple of 24 and 36 is 72.`"
      ]
    },
    {
      "cell_type": "code",
      "metadata": {
        "colab": {
          "base_uri": "https://localhost:8080/"
        },
        "id": "8i_1OKU3EHJ5",
        "outputId": "a5cc54d4-8e9f-453c-e1df-4f9d9c90cec4"
      },
      "source": [
        "# Q LCM:\n",
        "first_divisor = 24\n",
        "second_divisor = 36\n",
        "counting = True\n",
        "i = 1\n",
        "while counting:\n",
        "  if i%first_divisor==0 and i%second_divisor==0:\n",
        "    break\n",
        "  i+=1\n",
        "print('The Least Common Multiple of', first_divisor, 'and', second_divisor, 'is', i, '.')"
      ],
      "execution_count": 35,
      "outputs": [
        {
          "output_type": "stream",
          "text": [
            "The Least Common Multiple of 24 and 36 is 72 .\n"
          ],
          "name": "stdout"
        }
      ]
    },
    {
      "cell_type": "markdown",
      "metadata": {
        "id": "G-AY8uLOHs3F"
      },
      "source": [
        "### Exercise 9: Calculating Perfect Squares\n",
        "The goal of this exercise is to prompt the user to enter a given\n",
        "number and find out whether it is a perfect square.\n",
        "The following steps in this exercise will help you with this:\n",
        "1. Prompt the user to enter a number to see if it's a perfect\n",
        "square:\n",
        "\n",
        "  `print('Enter a number to see if it\\'s a perfect square.')`\n",
        "2. Set a variable as equal to input(). In this case let's\n",
        "enter 64:\n",
        "\n",
        "  `number = input()`\n",
        "3. Ensure the user input is a positive integer:\n",
        "\n",
        "  `number = abs(int(number))`\n",
        "4. Choose an iterator variable:\n",
        "\n",
        "  `i = -1`\n",
        "5. Initialize a Boolean to check for a perfect square:\n",
        "\n",
        "  `square = False`\n",
        "6. Initialize a while loop from -1 to the square root of the\n",
        "number:\n",
        "\n",
        "  `while i <= number**(0.5):`\n",
        "7. Increment i by 1:\n",
        "\n",
        "  `i += 1`\n",
        "8. Check the square root of the number:\n",
        "\n",
        "  `if i*i == number:`\n",
        "9. Indicate that we have a perfect square:\n",
        "\n",
        "  `square = True`\n",
        "10. break out of the loop:\n",
        "  `break`\n",
        "11. If the number is square, print out the result:\n",
        "  `if square:`\n",
        "\n",
        "  `print('The square root of', number, 'is', i, '.')`\n",
        "12. If the number is not a square, print out this result:\n",
        "\n",
        "  `else:`\n",
        "\n",
        "  `print('', number, 'is not a perfect square.')`\n",
        "  \n",
        "You should get the following output:\n",
        "\n",
        "  `The square root of 64 is 8.`"
      ]
    },
    {
      "cell_type": "code",
      "metadata": {
        "colab": {
          "base_uri": "https://localhost:8080/"
        },
        "id": "mCeKkXWZHIyi",
        "outputId": "af119f11-8ee3-47fc-9a40-f24596d2f44d"
      },
      "source": [
        "# Perfect Squares\n",
        "print('Enter a number to see if it\\'s a perfect square.')\n",
        "# ensures user input is a +ve integer\n",
        "number = abs(int(input()))\n",
        "i = -1\n",
        "square = False\n",
        "while i <= number**(0.5):\n",
        "  i += 1\n",
        "  if i*i == number:\n",
        "    square = True\n",
        "    break\n",
        "if square:\n",
        "  print('The square root of', number, 'is', i, '.')\n",
        "else:\n",
        "  print('', number, 'is not a perfect square.')"
      ],
      "execution_count": 38,
      "outputs": [
        {
          "output_type": "stream",
          "text": [
            "Enter a number to see if it's a perfect square.\n",
            "64\n",
            "The square root of 64 is 8 .\n"
          ],
          "name": "stdout"
        }
      ]
    },
    {
      "cell_type": "markdown",
      "metadata": {
        "id": "ydJhUR0NKVpY"
      },
      "source": [
        "### Exercise 10: Using for Loops\n",
        "In this exercise, you will utilize for loops to print the\n",
        "characters in a string in addition to a range of numbers:\n",
        "1. Print out the characters of 'IISERB':\n",
        "```\n",
        "for i in 'IISERB':\n",
        "    print(i)\n",
        "```\n",
        "You should get the following output:\n",
        "```\n",
        "I\n",
        "I\n",
        "S\n",
        "E\n",
        "R\n",
        "B\n",
        "```\n",
        "\n",
        "2. Using range method in for Loop:\n",
        "You use a lower bound of 1 and an upper bound\n",
        "of 10 with range to print 1-9:\n",
        "\n",
        "  Hint: `range(1,9)`\n",
        "You should get the following output:\n",
        "```\n",
        "1\n",
        "2\n",
        "3\n",
        "4\n",
        "5\n",
        "6\n",
        "7\n",
        "8\n",
        "9\n",
        "```\n",
        "\n",
        "  The range does not print the number 10.\n",
        "\n",
        "3. Now use range with one bound only, the number 10, to\n",
        "print the first ten numbers:\n",
        "You should get the following output:\n",
        "```\n",
        "0\n",
        "1\n",
        "2\n",
        "3\n",
        "4\n",
        "5\n",
        "6\n",
        "7\n",
        "8\n",
        "9\n",
        "```\n",
        "  So, `range(10)` will print out the first 10 numbers,\n",
        "starting at 0, and ending with 9.\n",
        "Now let's say that you want to count by increments of 2.\n",
        "You can add a third bound, a step increment, to count up\n",
        "or down by any number desired.\n",
        "Use a step increment to count the even numbers through\n",
        "10:\n",
        "\n",
        "  You should get the following output:\n",
        "```\n",
        "1\n",
        "3\n",
        "5\n",
        "7\n",
        "9\n",
        "```\n",
        "Similarly, you can count down using negative numbers,\n",
        "which is shown in the next step.\n",
        "4. Use a step increment to count down from 3 to -1:\n",
        "You should get the following output:\n",
        "```\n",
        "3\n",
        "2\n",
        "1\n",
        "```\n",
        "5. Now, print each letter of the city three times:\n",
        "\n",
        "  `city = 'Bhopal'`\n",
        "\n",
        "  You can use nested loops.\n",
        "```\n",
        "for i in range(3):\n",
        "    for i in city:\n",
        "      print(i)\n",
        "```\n",
        "You should get the following output:\n",
        "```\n",
        "B\n",
        "h\n",
        "o\n",
        "p\n",
        "a\n",
        "l\n",
        "B\n",
        "h\n",
        "o\n",
        "p\n",
        "a\n",
        "l\n",
        "B\n",
        "h\n",
        "o\n",
        "p\n",
        "a\n",
        "l\n",
        "```"
      ]
    },
    {
      "cell_type": "code",
      "metadata": {
        "colab": {
          "base_uri": "https://localhost:8080/"
        },
        "id": "fxSG9MxLJMj8",
        "outputId": "26640a91-a998-4531-b7a0-aca7ba8a1904"
      },
      "source": [
        "# Q1.\n",
        "for i in 'IISERB':\n",
        "  print(i)"
      ],
      "execution_count": 39,
      "outputs": [
        {
          "output_type": "stream",
          "text": [
            "I\n",
            "I\n",
            "S\n",
            "E\n",
            "R\n",
            "B\n"
          ],
          "name": "stdout"
        }
      ]
    },
    {
      "cell_type": "code",
      "metadata": {
        "colab": {
          "base_uri": "https://localhost:8080/"
        },
        "id": "IsaoakSHMs-F",
        "outputId": "c22897ae-9c33-4e95-e7e2-73f054fcbe7e"
      },
      "source": [
        "# Q2.\n",
        "for i in range(1, 10):\n",
        "  print(i)"
      ],
      "execution_count": 41,
      "outputs": [
        {
          "output_type": "stream",
          "text": [
            "1\n",
            "2\n",
            "3\n",
            "4\n",
            "5\n",
            "6\n",
            "7\n",
            "8\n",
            "9\n"
          ],
          "name": "stdout"
        }
      ]
    },
    {
      "cell_type": "code",
      "metadata": {
        "colab": {
          "base_uri": "https://localhost:8080/"
        },
        "id": "QO1ZsZvyNFGy",
        "outputId": "91f3a6b3-e280-4e05-ccf7-c844d643c4fd"
      },
      "source": [
        "# Q3.\n",
        "for i in range(0, 10):\n",
        "  print(i)"
      ],
      "execution_count": 42,
      "outputs": [
        {
          "output_type": "stream",
          "text": [
            "0\n",
            "1\n",
            "2\n",
            "3\n",
            "4\n",
            "5\n",
            "6\n",
            "7\n",
            "8\n",
            "9\n"
          ],
          "name": "stdout"
        }
      ]
    },
    {
      "cell_type": "code",
      "metadata": {
        "colab": {
          "base_uri": "https://localhost:8080/"
        },
        "id": "VpQPGoVQNJDs",
        "outputId": "0b7af407-1b9b-453e-a081-ee9affc0f228"
      },
      "source": [
        "# Q3.\n",
        "for i in range(1,10,2):\n",
        "  print(i)"
      ],
      "execution_count": 44,
      "outputs": [
        {
          "output_type": "stream",
          "text": [
            "1\n",
            "3\n",
            "5\n",
            "7\n",
            "9\n"
          ],
          "name": "stdout"
        }
      ]
    },
    {
      "cell_type": "code",
      "metadata": {
        "colab": {
          "base_uri": "https://localhost:8080/"
        },
        "id": "SGkgLcjMNaMR",
        "outputId": "15fa7b66-d627-4312-828e-2a182a9fd9ee"
      },
      "source": [
        "# Q4.\n",
        "for i in range(3,0,-1):\n",
        "  print(i)"
      ],
      "execution_count": 50,
      "outputs": [
        {
          "output_type": "stream",
          "text": [
            "3\n",
            "2\n",
            "1\n"
          ],
          "name": "stdout"
        }
      ]
    },
    {
      "cell_type": "code",
      "metadata": {
        "colab": {
          "base_uri": "https://localhost:8080/"
        },
        "id": "B_HF6C5fOHLl",
        "outputId": "90c5dcb6-2932-4fcc-dd91-3c903604ff64"
      },
      "source": [
        "# Q5.\n",
        "city = 'Bhopal'\n",
        "for i in range(3):\n",
        "  for i in city:\n",
        "   print(i)"
      ],
      "execution_count": 52,
      "outputs": [
        {
          "output_type": "stream",
          "text": [
            "B\n",
            "h\n",
            "o\n",
            "p\n",
            "a\n",
            "l\n",
            "B\n",
            "h\n",
            "o\n",
            "p\n",
            "a\n",
            "l\n",
            "B\n",
            "h\n",
            "o\n",
            "p\n",
            "a\n",
            "l\n"
          ],
          "name": "stdout"
        }
      ]
    },
    {
      "cell_type": "code",
      "metadata": {
        "id": "T_EPp7t-OgPL"
      },
      "source": [
        ""
      ],
      "execution_count": null,
      "outputs": []
    }
  ]
}